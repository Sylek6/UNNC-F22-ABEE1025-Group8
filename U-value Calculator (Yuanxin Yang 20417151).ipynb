{
 "cells": [
  {
   "cell_type": "code",
   "execution_count": 299,
   "id": "269484a1",
   "metadata": {},
   "outputs": [],
   "source": [
    "# Author: Yuanxin Yang\n",
    "# Date: 2023.01.28\n",
    "class Wall_layer():# this is the class to calculate the R-value of a wall layer\n",
    "    def __init__(self, name, thickness, k): # k is the thermal conductivity of a wall layer \n",
    "                                            # thickness is the thickness of a wall layer\n",
    "        self.name = name    \n",
    "        self.thickness = thickness\n",
    "        self.k = k\n",
    "    \n",
    "    # get the values for all the attributes   \n",
    "    def get_name(self):\n",
    "        return self.name\n",
    "    \n",
    "    def get_thickness(self):\n",
    "        return self.thickness\n",
    "    \n",
    "    def get_k(self):\n",
    "        return self.k\n",
    "    \n",
    "    # get the value of thermal resistance R of a wall layer: R = thickness / k\n",
    "    def get_r(self):\n",
    "        return self.thickness / self.k\n",
    "    \n",
    "    # add limits to values of attributes\n",
    "    # name can only be string\n",
    "    def set_name(self, new_name):\n",
    "        if (type(new_name) is str \n",
    "            and len(new_name) < 10):\n",
    "            self.name = new_name\n",
    "        else:\n",
    "            print('This name cannot be used')\n",
    "     \n",
    "    # thickness and k can only be integer or floating point number\n",
    "    def set_thickness(self, new_thickness):\n",
    "        if (type(new_thickness) is int):\n",
    "            self.thickness = new_thickness\n",
    "        elif (type(new_thickness)is float):\n",
    "            self.thickness = new_thickness\n",
    "        else:\n",
    "            print('Thickness must be a number')\n",
    "        \n",
    "    def set_k(self, new_k):\n",
    "        if (type(new_k) is int):\n",
    "            self.k = new_k\n",
    "        elif (type(new_k)is float):\n",
    "            self.k = new_k\n",
    "        else:\n",
    "            print('K-value must be a number')\n",
    "        \n",
    "    "
   ]
  },
  {
   "cell_type": "code",
   "execution_count": 300,
   "id": "53621fcf",
   "metadata": {},
   "outputs": [],
   "source": [
    "class Wall():# this is the class to calculate the U-value of a wall\n",
    "    def __init__(self, r_se, r_si, layers = None):# layers is a list of Wall_layer objects\n",
    "                                                  # r_se and r_si are two R-values which do not need calculation\n",
    "        self.layers = [] if layers == None else layers\n",
    "        self.r_se = r_se\n",
    "        self.r_si = r_si\n",
    "   \n",
    "    # get the values for attibutes\n",
    "    def get_r_se(self):\n",
    "        return self.r_se\n",
    "    \n",
    "    def get_r_si(self):\n",
    "        return self.r_si\n",
    "    \n",
    "    # add limits to values of r_se and r_si, they can only be numbers\n",
    "    def set_r_se(self, new_r_se):\n",
    "        if (type(new_r_se) is int):\n",
    "            self.r_se = new_r_se\n",
    "        elif (type(new_r_se)is float):\n",
    "            self.r_se = new_r_se\n",
    "        else:\n",
    "            print('r_se must be a number')\n",
    "            \n",
    "    def set_r_si(self, new_r_si):\n",
    "        if (type(new_r_si) is int):\n",
    "            self.r_si = new_r_si\n",
    "        elif (type(new_r_si)is float):\n",
    "            self.r_si = new_r_si\n",
    "        else:\n",
    "            print('r_si must be a number')\n",
    "    \n",
    "    # create the list for Wall_layer objects \n",
    "    def add_layer(self, layer):\n",
    "        if isinstance(layer, Wall_layer):\n",
    "            self.layers.append(layer)\n",
    "        else:\n",
    "            print('The add_layer method expects a Wall_layer object')\n",
    "     \n",
    "    # calculate U-value of wall by the formula U = 1 / sum of R-values of all the wall layers\n",
    "    def get_u(self):\n",
    "        if self.layers:\n",
    "            return 1 / (sum(layer.get_r()for layer in self.layers) + self.r_se + self.r_si)\n",
    "        else:\n",
    "            print('The wall does not contain any layer!')# the denominator cannot be 0\n",
    "        \n",
    "    def __add__(self, other):\n",
    "        if isinstance(other, Wall_layer): #add a layer\n",
    "            return Wall(self.layers + [other])\n",
    "        elif isinstance(other, Wall): #add a wall (add all layers of the wall specified)\n",
    "            return Wall(self.layers + other.layers)\n",
    "        else:\n",
    "            print('The add_layer method expects a Wall_layer or Wall object')\n",
    "            \n",
    "    def __iadd__(self, other):\n",
    "        if isinstance(other, Wall_layer): #add a layer\n",
    "            self.layers.append(other)\n",
    "            return self\n",
    "        elif isinstance(other, Wall): #add a wall (add all layers of the wall specified)\n",
    "            self.layers.extend(other.layers)\n",
    "            return self\n",
    "        else:\n",
    "            print('The add_layer method expects a Wall_layer or Wall object')  \n",
    "            \n",
    "    def get_layer(self, index):\n",
    "        return self.layers[index]\n",
    "    "
   ]
  },
  {
   "cell_type": "code",
   "execution_count": 301,
   "id": "c8336ed2",
   "metadata": {},
   "outputs": [],
   "source": [
    "# example to use the code\n",
    "# define all the objects for class Wall_layer\n",
    "layer1 = Wall_layer(name = 'outer', thickness = 0.1, k = 0.71)\n",
    "layer2 = Wall_layer(name = 'inner', thickness = 0.1, k = 0.2)\n",
    "layer3 = Wall_layer(name = 'air_cavity', thickness = 0.05, k = 0.28)\n",
    "layer4 = Wall_layer(name = 'plasterboard', thickness = 0.0125, k = 0.18)\n",
    "\n",
    "# define attributes for object wall1 of class Wall\n",
    "wall1 = Wall(r_se = 0.04, r_si = 0.13, layers = [layer1, layer2, layer3, layer4])"
   ]
  },
  {
   "cell_type": "code",
   "execution_count": 302,
   "id": "deb6492a",
   "metadata": {},
   "outputs": [
    {
     "data": {
      "text/plain": [
       "0.14084507042253522"
      ]
     },
     "execution_count": 302,
     "metadata": {},
     "output_type": "execute_result"
    }
   ],
   "source": [
    "# calculated R-value of each layer\n",
    "layer1.get_r()"
   ]
  },
  {
   "cell_type": "code",
   "execution_count": 303,
   "id": "5ad99b65",
   "metadata": {},
   "outputs": [
    {
     "data": {
      "text/plain": [
       "0.5"
      ]
     },
     "execution_count": 303,
     "metadata": {},
     "output_type": "execute_result"
    }
   ],
   "source": [
    "layer2.get_r()"
   ]
  },
  {
   "cell_type": "code",
   "execution_count": 304,
   "id": "4e7223fd",
   "metadata": {},
   "outputs": [
    {
     "data": {
      "text/plain": [
       "0.17857142857142858"
      ]
     },
     "execution_count": 304,
     "metadata": {},
     "output_type": "execute_result"
    }
   ],
   "source": [
    "layer3.get_r()"
   ]
  },
  {
   "cell_type": "code",
   "execution_count": 305,
   "id": "1bc71efa",
   "metadata": {},
   "outputs": [
    {
     "data": {
      "text/plain": [
       "0.06944444444444445"
      ]
     },
     "execution_count": 305,
     "metadata": {},
     "output_type": "execute_result"
    }
   ],
   "source": [
    "layer4.get_r()"
   ]
  },
  {
   "cell_type": "code",
   "execution_count": 306,
   "id": "2ff6e229",
   "metadata": {},
   "outputs": [
    {
     "data": {
      "text/plain": [
       "0.9444110732356688"
      ]
     },
     "execution_count": 306,
     "metadata": {},
     "output_type": "execute_result"
    }
   ],
   "source": [
    "# calculated U-value for wall1\n",
    "wall1.get_u()"
   ]
  },
  {
   "cell_type": "code",
   "execution_count": null,
   "id": "164062c8",
   "metadata": {},
   "outputs": [],
   "source": []
  }
 ],
 "metadata": {
  "kernelspec": {
   "display_name": "Python 3 (ipykernel)",
   "language": "python",
   "name": "python3"
  },
  "language_info": {
   "codemirror_mode": {
    "name": "ipython",
    "version": 3
   },
   "file_extension": ".py",
   "mimetype": "text/x-python",
   "name": "python",
   "nbconvert_exporter": "python",
   "pygments_lexer": "ipython3",
   "version": "3.9.12"
  }
 },
 "nbformat": 4,
 "nbformat_minor": 5
}
